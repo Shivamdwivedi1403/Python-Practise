{
 "cells": [
  {
   "cell_type": "markdown",
   "metadata": {},
   "source": [
    "## w3resource exercise 1 "
   ]
  },
  {
   "cell_type": "code",
   "execution_count": null,
   "metadata": {},
   "outputs": [],
   "source": [
    "print('''Twinkle, twinkle, little star, \n",
    "\\tHow I wonder what you are! \n",
    "Up above the world so high, \n",
    "\\tLike a diamond in the sky. \n",
    "Twinkle, twinkle, little star, \n",
    "\\tHow I wonder what you are''')"
   ]
  },
  {
   "cell_type": "code",
   "execution_count": null,
   "metadata": {},
   "outputs": [],
   "source": [
    "import sys\n",
    "print(\"Python version\")\n",
    "print(sys.version)\n",
    "print(\"Python Info\")\n",
    "print(sys.version_info)"
   ]
  },
  {
   "cell_type": "code",
   "execution_count": null,
   "metadata": {},
   "outputs": [],
   "source": [
    "import datetime\n",
    "print(\"Date     & Time\")\n",
    "print(datetime.datetime.now())\n",
    "print (now.strftime(\"%Y-%m-%d %H:%M:%S\"))"
   ]
  },
  {
   "cell_type": "code",
   "execution_count": null,
   "metadata": {},
   "outputs": [],
   "source": [
    "import datetime\n",
    "now = datetime.datetime.now()                #Original\n",
    "print (\"Current date and time : \")\n",
    "print (now.strftime(\"%Y-%m-%d %H:%M:%S\"))"
   ]
  },
  {
   "cell_type": "code",
   "execution_count": null,
   "metadata": {
    "scrolled": true
   },
   "outputs": [],
   "source": [
    "print(\"Entre the radius\")\n",
    "Radius = input()\n",
    "Radius = int(Radius)\n",
    "B = 3.14*Radius**2\n",
    "print (f\"Area of Circle is {B}\")  "
   ]
  },
  {
   "cell_type": "code",
   "execution_count": 1,
   "metadata": {},
   "outputs": [
    {
     "name": "stdout",
     "output_type": "stream",
     "text": [
      "Input the radius of the circle121\n",
      "The area of circle with radius 121.0 is :-45996.05804120816\n"
     ]
    }
   ],
   "source": [
    "from math import pi           #original\n",
    "r = float(input(\"Input the radius of the circle :- \"))\n",
    "print (\"The area of circle with radius \" + str(r) + \" is :-\" + str(pi * r**2))"
   ]
  },
  {
   "cell_type": "code",
   "execution_count": 7,
   "metadata": {},
   "outputs": [
    {
     "name": "stdout",
     "output_type": "stream",
     "text": [
      "Entre your first name shivam\n",
      "Entre your last namekumar\n",
      "\n",
      "Your name is shivamkumar\n",
      "The Reverse string (using loops) is :-\n",
      " \n"
     ]
    }
   ],
   "source": [
    "# question 5 \n",
    "\n",
    "def reverse(name):\n",
    "    str = \" \"\n",
    "    for i in name:\n",
    "        str = i = str\n",
    "    return str\n",
    "\n",
    "\n",
    "name1 = input(\"Entre your first name \")\n",
    "name2 = input(\"Entre your last name\")\n",
    "name = name1 +name2\n",
    "print(\"\\nYour name is \" + name)\n",
    "\n",
    "print(\"The Reverse string (using loops) is :-\")\n",
    "print (reverse(name))"
   ]
  },
  {
   "cell_type": "code",
   "execution_count": null,
   "metadata": {},
   "outputs": [],
   "source": [
    "# Python code to reverse a string  \n",
    "# using loop \n",
    "  \n",
    "def reverse(s): \n",
    "  str = \"\" \n",
    "  for i in s: \n",
    "    str = i + str\n",
    "  return str\n",
    "\n",
    "a = input(\"Enter first name\")\n",
    "b = input (\" Entre second name\")\n",
    "s = a + b \n",
    "  \n",
    "print (\"The original string  is : \",end=\"\") \n",
    "print (s) \n",
    "  \n",
    "print (\"The reversed string(using loops) is : \",end=\"\") \n",
    "print (reverse(s)) "
   ]
  },
  {
   "cell_type": "code",
   "execution_count": null,
   "metadata": {},
   "outputs": [],
   "source": []
  },
  {
   "cell_type": "code",
   "execution_count": null,
   "metadata": {},
   "outputs": [],
   "source": []
  },
  {
   "cell_type": "code",
   "execution_count": null,
   "metadata": {},
   "outputs": [],
   "source": []
  },
  {
   "cell_type": "code",
   "execution_count": null,
   "metadata": {},
   "outputs": [],
   "source": []
  },
  {
   "cell_type": "code",
   "execution_count": null,
   "metadata": {},
   "outputs": [],
   "source": []
  },
  {
   "cell_type": "code",
   "execution_count": null,
   "metadata": {},
   "outputs": [],
   "source": []
  },
  {
   "cell_type": "code",
   "execution_count": null,
   "metadata": {},
   "outputs": [],
   "source": []
  },
  {
   "cell_type": "code",
   "execution_count": null,
   "metadata": {},
   "outputs": [],
   "source": []
  },
  {
   "cell_type": "code",
   "execution_count": null,
   "metadata": {},
   "outputs": [],
   "source": []
  }
 ],
 "metadata": {
  "kernelspec": {
   "display_name": "Python 3",
   "language": "python",
   "name": "python3"
  },
  "language_info": {
   "codemirror_mode": {
    "name": "ipython",
    "version": 3
   },
   "file_extension": ".py",
   "mimetype": "text/x-python",
   "name": "python",
   "nbconvert_exporter": "python",
   "pygments_lexer": "ipython3",
   "version": "3.8.3"
  }
 },
 "nbformat": 4,
 "nbformat_minor": 4
}
